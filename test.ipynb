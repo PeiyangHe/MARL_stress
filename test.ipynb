{
 "cells": [
  {
   "cell_type": "code",
   "execution_count": 1,
   "outputs": [
    {
     "name": "stdout",
     "text": [
      "{'CASH': 1.0, 'CB': 0.9661880243007673, 'GB': 0.4604709590194781, 'OTHER': 1.0}\nAT01 -0.002156105237383362\n{'CASH': 1.0, 'CB': 0.9335506432236536, 'GB': 0.42412725407288476, 'OTHER': 1.0}\nAT01 -0.007197910982526803\n{'CASH': 1.0, 'CB': 0.9020429960291765, 'GB': 0.3907020061784811, 'OTHER': 1.0}\nAT01 -0.011076386510509536\n"
     ],
     "output_type": "stream"
    }
   ],
   "source": [
    "from BankSimEnv import BankSimEnv\n",
    "\n",
    "env = BankSimEnv()\n",
    "\n",
    "init_obs = env.reset()\n",
    "\n",
    "def stupid_action(bank):\n",
    "    action = {}\n",
    "    CB_qty = bank.BS.Asset['CB'].Quantity\n",
    "    GB_qty = bank.BS.Asset['GB'].Quantity\n",
    "    action['CB'], action['GB'] = CB_qty*0.1, GB_qty*0.1\n",
    "    return action\n",
    "\n",
    "play = 0\n",
    "while play < 3:\n",
    "    actions = {}\n",
    "    play += 1\n",
    "    for bank_name, bank in env.allAgentBanks.items():\n",
    "        actions[bank_name] = stupid_action(bank)\n",
    "    env.step(actions)\n"
   ],
   "metadata": {
    "collapsed": false,
    "pycharm": {
     "name": "#%%\n",
     "is_executing": false
    }
   }
  },
  {
   "cell_type": "code",
   "execution_count": 1,
   "outputs": [],
   "source": [
    "\n"
   ],
   "metadata": {
    "collapsed": false,
    "pycharm": {
     "name": "#%%\n",
     "is_executing": false
    }
   }
  }
 ],
 "metadata": {
  "kernelspec": {
   "display_name": "Python 3",
   "language": "python",
   "name": "python3"
  },
  "language_info": {
   "codemirror_mode": {
    "name": "ipython",
    "version": 2
   },
   "file_extension": ".py",
   "mimetype": "text/x-python",
   "name": "python",
   "nbconvert_exporter": "python",
   "pygments_lexer": "ipython2",
   "version": "2.7.6"
  },
  "pycharm": {
   "stem_cell": {
    "cell_type": "raw",
    "source": [],
    "metadata": {
     "collapsed": false
    }
   }
  }
 },
 "nbformat": 4,
 "nbformat_minor": 0
}