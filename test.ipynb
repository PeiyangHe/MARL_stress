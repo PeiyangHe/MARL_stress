{
 "cells": [
  {
   "cell_type": "code",
   "execution_count": 1,
   "outputs": [
    {
     "name": "stdout",
     "text": [
      "{'CASH': 1.0, 'CB': 0.9661880243007673, 'GB': 0.4604709590194781, 'OTHER': 1.0}\nAT01 -0.002156105237383362\n{'CASH': 1.0, 'CB': 0.9335506432236536, 'GB': 0.42412725407288476, 'OTHER': 1.0}\nAT01 -0.007197910982526803\n{'CASH': 1.0, 'CB': 0.9020429960291765, 'GB': 0.3907020061784811, 'OTHER': 1.0}\nAT01 -0.011076386510509536\n"
     ],
     "output_type": "stream"
    }
   ],
   "source": [
    "from BankSimEnv import BankSimEnv\n",
    "from MARL.NaiveA2C.ddpg_agent import Agent\n",
    "from MARL.NaiveA2C.util import setup_matplotlib, plot_custom_errorbar_plot\n",
    "import matplotlib.pyplot as plt\n",
    "import numpy as np\n",
    "\n",
    "\n",
    "def MA_obs_to_bank_obs(obs, bank):\n",
    "    # obs is (bank.AssetMarket.query_price(), bank.BS.Asset, bank.BS.Liability, bank.get_leverage_ratio(), bank.initialBS)\n",
    "    bank_obs = obs[bank.BankName]\n",
    "    # print(f'BANK OBS of {bank.BankName}', bank_obs)\n",
    "    cb_price, gb_price =  bank_obs[0]['CB'], bank_obs[0]['GB']\n",
    "    cb_left, gb_left, loans_left = bank_obs[1]['CB'].Quantity/bank_obs[4].Asset['CB'].Quantity, bank_obs[1]['CB'].Quantity/bank_obs[4].Asset['GB'].Quantity, bank_obs[2]['LOAN'].Quantity/bank_obs[4].Liability['LOAN'].Quantity\n",
    "    leverage = bank_obs[3]\n",
    "    return np.asarray([cb_price, gb_price, cb_left, gb_left, loans_left, leverage*30])\n",
    "\n",
    "\n",
    "agent_dict = {}\n",
    "env = BankSimEnv()\n",
    "\n",
    "for idx, name in enumerate([f'B0{i}' for i in range(1, 3)]):\n",
    "    agent = Agent(state_size=6, action_size=2, random_seed=0, name=name)\n",
    "    agent_dict[name] = agent"
   ],
   "metadata": {
    "collapsed": false,
    "pycharm": {
     "name": "#%%\n",
     "is_executing": false
    }
   }
  },
  {
   "cell_type": "code",
   "execution_count": 1,
   "outputs": [],
   "source": [
    "average_lifespans = []\n",
    "for episode in range(10000):\n",
    "    if episode == 0 or episode % 100 == 0:\n",
    "        print(f'=========================================Episode {episode}===============================================')\n",
    "    current_obs = env.reset()\n",
    "    play, max_play = 0, 5\n",
    "    num_default = []\n",
    "    while play < max_play:\n",
    "        actions = {}\n",
    "        for bank_name, bank in env.allAgentBanks.items():\n",
    "            if bank_name in env.DefaultBanks:\n",
    "                continue\n",
    "            if episode % 100 == 0:\n",
    "                 print(\n",
    "                    f'Round {play}. Bank {bank_name}, CB: {int(bank.BS.Asset[\"CB\"].Quantity)}, GB: {int(bank.BS.Asset[\"GB\"].Quantity)}',\n",
    "                    f'EQUITY: {int(bank.get_equity_value())}, ASSET: {int(bank.get_asset_value())}, LIABILITY: {int(bank.get_liability_value())}, LEV: {int(bank.get_leverage_ratio() * 10000)} bps')\n",
    "            # conversion\n",
    "            my_obs = MA_obs_to_bank_obs(current_obs, bank)\n",
    "            current_obs[bank_name] = my_obs\n",
    "            # choose action\n",
    "            actions[bank_name] = agent_dict[bank_name].act(current_obs[bank_name], add_noise=False)\n",
    "        # convert actions\n",
    "        actions_dict = {}\n",
    "        for name, action in actions.items():\n",
    "            action_dict = {}\n",
    "            action_dict['CB'], action_dict['GB'] = action[0], action[1]\n",
    "            actions_dict[name] = action_dict\n",
    "        new_obs, rewards, dones, infos = env.step(actions_dict)\n",
    "        for bank_name, bank in env.allAgentBanks.items():\n",
    "            if bank_name in env.DefaultBanks:\n",
    "                continue\n",
    "            my_new_obs = MA_obs_to_bank_obs(new_obs, bank)\n",
    "            current_obs[bank_name] = my_new_obs\n",
    "            agent_dict[bank_name].step(current_obs[bank_name], actions[bank_name], rewards[bank_name], my_new_obs, dones[bank_name])\n",
    "        current_obs = new_obs\n",
    "        num_default.append(infos['NUM_DEFAULT'])\n",
    "        play += 1\n",
    "        if play == max_play:\n",
    "            # print(infos['AVERAGE_LIFESPAN'])\n",
    "            average_lifespans.append(infos['AVERAGE_LIFESPAN'])\n"
   ],
   "metadata": {
    "collapsed": false,
    "pycharm": {
     "name": "#%%\n",
     "is_executing": false
    }
   }
  },
  {
   "cell_type": "code",
   "execution_count": null,
   "outputs": [],
   "source": [
    "setup_matplotlib()\n",
    "x_points = int(len(average_lifespans)/20)\n",
    "average_lifespans = np.array(average_lifespans).reshape(x_points, 20)\n",
    "means_avg_lifespans = np.mean(average_lifespans, axis=1)\n",
    "stds_avg_lifespans = np.std(average_lifespans, axis=1)\n",
    "plot_custom_errorbar_plot(range(x_points), means_avg_lifespans, stds_avg_lifespans)\n",
    "plt.show()\n"
   ],
   "metadata": {
    "collapsed": false,
    "pycharm": {
     "name": "#%%\n"
    }
   }
  }
 ],
 "metadata": {
  "kernelspec": {
   "display_name": "Python 3",
   "language": "python",
   "name": "python3"
  },
  "language_info": {
   "codemirror_mode": {
    "name": "ipython",
    "version": 2
   },
   "file_extension": ".py",
   "mimetype": "text/x-python",
   "name": "python",
   "nbconvert_exporter": "python",
   "pygments_lexer": "ipython2",
   "version": "2.7.6"
  },
  "pycharm": {
   "stem_cell": {
    "cell_type": "raw",
    "source": [],
    "metadata": {
     "collapsed": false
    }
   }
  }
 },
 "nbformat": 4,
 "nbformat_minor": 0
}