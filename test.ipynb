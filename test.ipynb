{
 "cells": [
  {
   "cell_type": "code",
   "execution_count": 5,
   "metadata": {
    "collapsed": true,
    "pycharm": {
     "is_executing": false
    }
   },
   "outputs": [],
   "source": [
    "from AgentBank import Asset, Liability, BalanceSheet\n",
    "from ImpactFunctions import CifuentesImpact\n",
    "with open('EBA_2018.csv', 'r') as data:\n",
    "    bs_from_csv = data.read().strip().split('\\n')[1:]\n",
    "\n",
    "BalanceSheets = {}\n",
    "\n",
    "for bs in bs_from_csv:\n",
    "    assets, liabilities = {}, {}\n",
    "    \n",
    "    # extract different asset types from the doc\n",
    "    row = bs.split(' ')\n",
    "    bank_name, CET1E, leverage, debt_sec, gov_bonds = row\n",
    "    debt_sec = float(debt_sec)\n",
    "    gov_bonds = eval(gov_bonds)\n",
    "    CET1E = float(CET1E)\n",
    "    corp_bonds = debt_sec - gov_bonds\n",
    "    asset = CET1E / (float(leverage) / 100)\n",
    "    cash = 0.05 * asset\n",
    "    liability = asset - CET1E\n",
    "    other_asset = asset - debt_sec - cash\n",
    "    loan = other_liability = liability / 2\n",
    "\n",
    "    assets['CASH'], assets['CB'], assets['GB'], assets['OTHER'] = \\\n",
    "           Asset('CASH', cash, CifuentesImpact), Asset('CB', corp_bonds, CifuentesImpact), \\\n",
    "           Asset('GB', gov_bonds, CifuentesImpact),  Asset(other_asset, other_asset, CifuentesImpact)\n",
    "    liabilities['LOAN'], liabilities['OTHER'] = Liability('LOAN', loan), Liability('OTHER', other_liability)\n",
    "\n",
    "    BS = BalanceSheet(assets, liabilities)\n",
    "    BalanceSheets[bank_name] = BS"
   ]
  },
  {
   "cell_type": "code",
   "execution_count": 5,
   "outputs": [],
   "source": [],
   "metadata": {
    "collapsed": false,
    "pycharm": {
     "name": "#%%\n",
     "is_executing": false
    }
   }
  },
  {
   "cell_type": "code",
   "execution_count": 5,
   "outputs": [],
   "source": [
    "\n"
   ],
   "metadata": {
    "collapsed": false,
    "pycharm": {
     "name": "#%%\n",
     "is_executing": false
    }
   }
  }
 ],
 "metadata": {
  "kernelspec": {
   "display_name": "Python 3",
   "language": "python",
   "name": "python3"
  },
  "language_info": {
   "codemirror_mode": {
    "name": "ipython",
    "version": 2
   },
   "file_extension": ".py",
   "mimetype": "text/x-python",
   "name": "python",
   "nbconvert_exporter": "python",
   "pygments_lexer": "ipython2",
   "version": "2.7.6"
  },
  "pycharm": {
   "stem_cell": {
    "cell_type": "raw",
    "source": [],
    "metadata": {
     "collapsed": false
    }
   }
  }
 },
 "nbformat": 4,
 "nbformat_minor": 0
}