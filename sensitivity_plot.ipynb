{
 "cells": [
  {
   "cell_type": "code",
   "execution_count": null,
   "metadata": {
    "collapsed": true,
    "pycharm": {
     "is_executing": true
    }
   },
   "outputs": [
    {
     "name": "stdout",
     "text": [
      "Cifuentes_Impact_lambda = 0.0! All 5 participants are: [0, 1, 2, 3, 4].\n",
      "Cifuentes_Impact_lambda = 0.005! All 5 participants are: [0, 1, 2, 3, 4].\n"
     ],
     "output_type": "stream"
    },
    {
     "name": "stderr",
     "text": [
      "/Users/Tony/miniconda3/envs/MARL_stress/lib/python3.7/site-packages/torch/nn/modules/loss.py:782: UserWarning: Using a target size (torch.Size([16, 5])) that is different to the input size (torch.Size([16, 1])). This will likely lead to incorrect results due to broadcasting. Please ensure they have the same size.\n",
      "  return F.smooth_l1_loss(input, target, reduction=self.reduction)\n"
     ],
     "output_type": "stream"
    }
   ],
   "source": [
    "import impact_sensitivity_tests.ca2c_sensitivity_impact\n",
    "import impact_sensitivity_tests.ha_sensitivity_impact\n",
    "import impact_sensitivity_tests.na2c_sensitivity_impact\n",
    "import impact_sensitivity_tests.sp_sensitivity_impact\n",
    "import shock_sensitivity_tests.ca2c_sensitivity_shock\n",
    "import shock_sensitivity_tests.ha_sensitivity_shock\n",
    "import shock_sensitivity_tests.na2c_sensitivity_shock\n",
    "import shock_sensitivity_tests.sp_sensitivity_shock\n"
   ]
  },
  {
   "cell_type": "code",
   "execution_count": null,
   "outputs": [],
   "source": [
    "import os\n",
    "import pandas as pd\n",
    "import numpy as np\n",
    "import matplotlib.pyplot as plt\n",
    "from multiprocessing import Pool"
   ],
   "metadata": {
    "collapsed": false,
    "pycharm": {
     "name": "#%%\n",
     "is_executing": true
    }
   }
  },
  {
   "cell_type": "code",
   "execution_count": null,
   "outputs": [],
   "source": [
    "all_parallel_processes = ('ca2c_sensitivity_impact', 'ha_sensitivity_impact', 'na2c_sensitivity_impact'\n",
    "                          'sp_sensitivity_impact', 'ca2c_sensitivity_shock', 'ha_sensitivity_shock'\n",
    "                          'na2c_sensitivity_shock', 'sp_sensitivity_shock')  \n",
    "\n",
    "def run(process):                                                             \n",
    "    os.system('python {}.py'.format(process))   \n",
    "    \n",
    "pool = Pool(processes = 8)                                                        \n",
    "pool.map(run, all_parallel_processes)       "
   ],
   "metadata": {
    "collapsed": false,
    "pycharm": {
     "name": "#%%\n",
     "is_executing": true
    }
   }
  },
  {
   "cell_type": "code",
   "execution_count": null,
   "outputs": [],
   "source": [
    "impact_ls = [0.001 * x for x in range(0, 200, 5)]\n",
    "shocks = [0.001 * x for x in range(0, 200, 5)]\n",
    "\n",
    "fig,(ax1,ax2)=plt.subplots(1, 2, sharey=True)\n",
    "ax1.grid()\n",
    "ax1.set(xlabel='Shock to initial assets (%)', ylabel='Remaining equity in the financial system (%)')\n",
    "ax1.legend(('heuristics', 'social planner', 'na2c', 'ca2c'))\n",
    "for process in all_parallel_processes[4:]:\n",
    "    process=pd.read_csv(os.path.join('/Users/Tony/OneDrive - Nexus365/Career/RL Research'), process+'.txt')\n",
    "    ax1.plot(shocks, process.values)\n",
    "ax2.set(xlabel='Fall in price (%)')\n",
    "for process in all_parallel_processes[:4]:\n",
    "    process=pd.read_csv(os.path.join('/Users/Tony/OneDrive - Nexus365/Career/RL Research'), process+'.txt')\n",
    "    ax2.plot(impact_ls, process.values)\n",
    "ax2.legend(('heuristics', 'social planner', 'na2c', 'ca2c'))\n",
    "ax2.grid()\n",
    "\n",
    "\n",
    "\n",
    "\n",
    "plt.show()\n"
   ],
   "metadata": {
    "collapsed": false,
    "pycharm": {
     "name": "#%%\n",
     "is_executing": true
    }
   }
  },
  {
   "cell_type": "code",
   "execution_count": null,
   "outputs": [],
   "source": [],
   "metadata": {
    "collapsed": false,
    "pycharm": {
     "name": "#%%\n",
     "is_executing": true
    }
   }
  },
  {
   "cell_type": "code",
   "execution_count": null,
   "outputs": [],
   "source": [],
   "metadata": {
    "collapsed": false,
    "pycharm": {
     "name": "#%%\n",
     "is_executing": true
    }
   }
  },
  {
   "cell_type": "code",
   "execution_count": null,
   "outputs": [],
   "source": [
    "\n"
   ],
   "metadata": {
    "collapsed": false,
    "pycharm": {
     "name": "#%%\n"
    }
   }
  }
 ],
 "metadata": {
  "kernelspec": {
   "display_name": "Python 3",
   "language": "python",
   "name": "python3"
  },
  "language_info": {
   "codemirror_mode": {
    "name": "ipython",
    "version": 2
   },
   "file_extension": ".py",
   "mimetype": "text/x-python",
   "name": "python",
   "nbconvert_exporter": "python",
   "pygments_lexer": "ipython2",
   "version": "2.7.6"
  },
  "pycharm": {
   "stem_cell": {
    "cell_type": "raw",
    "source": [],
    "metadata": {
     "collapsed": false
    }
   }
  }
 },
 "nbformat": 4,
 "nbformat_minor": 0
}