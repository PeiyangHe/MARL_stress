{
 "cells": [
  {
   "cell_type": "code",
   "execution_count": null,
   "metadata": {
    "collapsed": true,
    "pycharm": {
     "is_executing": true
    }
   },
   "outputs": [
    {
     "name": "stdout",
     "text": [
      "Cifuentes_Impact_lambda = 0.0! All 5 participants are: [0, 1, 2, 3, 4].\n",
      "Cifuentes_Impact_lambda = 0.005! All 5 participants are: [0, 1, 2, 3, 4].\n"
     ],
     "output_type": "stream"
    },
    {
     "name": "stderr",
     "text": [
      "/Users/Tony/miniconda3/envs/MARL_stress/lib/python3.7/site-packages/torch/nn/modules/loss.py:782: UserWarning: Using a target size (torch.Size([16, 5])) that is different to the input size (torch.Size([16, 1])). This will likely lead to incorrect results due to broadcasting. Please ensure they have the same size.\n",
      "  return F.smooth_l1_loss(input, target, reduction=self.reduction)\n"
     ],
     "output_type": "stream"
    }
   ],
   "source": [
    "import impact_sensitivity_tests.ca2c_sensitivity_impact\n",
    "import impact_sensitivity_tests.ha_sensitivity_impact\n",
    "import impact_sensitivity_tests.na2c_sensitivity_impact\n",
    "import impact_sensitivity_tests.sp_sensitivity_impact\n",
    "import shock_sensitivity_tests.ca2c_sensitivity_shock\n",
    "import shock_sensitivity_tests.ha_sensitivity_shock\n",
    "import shock_sensitivity_tests.na2c_sensitivity_shock\n",
    "import shock_sensitivity_tests.sp_sensitivity_shock\n"
   ]
  },
  {
   "cell_type": "code",
   "execution_count": null,
   "outputs": [],
   "source": [
    "import os\n",
    "import pandas as pd\n",
    "import numpy as np\n",
    "import matplotlib.pyplot as plt\n",
    "from multiprocessing import Pool"
   ],
   "metadata": {
    "collapsed": false,
    "pycharm": {
     "name": "#%%\n",
     "is_executing": true
    }
   }
  },
  {
   "cell_type": "code",
   "execution_count": null,
   "outputs": [],
   "source": [
    "all_parallel_processes = ('ca2c_sensitivity_impact.py', 'ha_sensitivity_impact.py', 'na2c_sensitivity_impact.py'\n",
    "                          'sp_sensitivity_impact.py', 'ca2c_sensitivity_shock.py', 'ha_sensitivity_shock.py'\n",
    "                          'na2c_sensitivity_shock.py', 'sp_sensitivity_shock.py')  \n",
    "\n",
    "def run(process):                                                             \n",
    "    os.system('python {}'.format(process))   \n",
    "    \n",
    "pool = Pool(processes=4)                                                        \n",
    "pool.map(run, all_parallel_processes)       "
   ],
   "metadata": {
    "collapsed": false,
    "pycharm": {
     "name": "#%%\n",
     "is_executing": true
    }
   }
  },
  {
   "cell_type": "code",
   "execution_count": null,
   "outputs": [],
   "source": [],
   "metadata": {
    "collapsed": false,
    "pycharm": {
     "name": "#%%\n",
     "is_executing": true
    }
   }
  },
  {
   "cell_type": "code",
   "execution_count": null,
   "outputs": [],
   "source": [],
   "metadata": {
    "collapsed": false,
    "pycharm": {
     "name": "#%%\n",
     "is_executing": true
    }
   }
  },
  {
   "cell_type": "code",
   "execution_count": null,
   "outputs": [],
   "source": [],
   "metadata": {
    "collapsed": false,
    "pycharm": {
     "name": "#%%\n",
     "is_executing": true
    }
   }
  },
  {
   "cell_type": "code",
   "execution_count": null,
   "outputs": [],
   "source": [
    "\n"
   ],
   "metadata": {
    "collapsed": false,
    "pycharm": {
     "name": "#%%\n"
    }
   }
  }
 ],
 "metadata": {
  "kernelspec": {
   "display_name": "Python 3",
   "language": "python",
   "name": "python3"
  },
  "language_info": {
   "codemirror_mode": {
    "name": "ipython",
    "version": 2
   },
   "file_extension": ".py",
   "mimetype": "text/x-python",
   "name": "python",
   "nbconvert_exporter": "python",
   "pygments_lexer": "ipython2",
   "version": "2.7.6"
  },
  "pycharm": {
   "stem_cell": {
    "cell_type": "raw",
    "source": [],
    "metadata": {
     "collapsed": false
    }
   }
  }
 },
 "nbformat": 4,
 "nbformat_minor": 0
}